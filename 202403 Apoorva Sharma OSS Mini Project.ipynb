{
 "cells": [
  {
   "cell_type": "markdown",
   "metadata": {},
   "source": [
    "# OPEN SOURCE SOFTWARE MINI PROJECT"
   ]
  },
  {
   "cell_type": "markdown",
   "metadata": {},
   "source": [
    "# Fake news analysis modelling"
   ]
  },
  {
   "cell_type": "markdown",
   "metadata": {},
   "source": [
    "Fake news refers to news containing deceptive or fabricated contents that are actually groundless; they are intentionally \n",
    "overstated or provide false information. This project module proposes a fake news analysis modelling method to identify a variety of features in terms of spreading information."
   ]
  },
  {
   "cell_type": "markdown",
   "metadata": {},
   "source": [
    "# Input/Data set"
   ]
  },
  {
   "cell_type": "markdown",
   "metadata": {},
   "source": [
    "The data containing news and veracity information of news can be collected from Kaggle, an open data analysis platform at: https://www.kaggle.com/rmisra/news-category-dataset https://www.kaggle.com/mrisdal/fake-news"
   ]
  },
  {
   "cell_type": "markdown",
   "metadata": {
    "colab_type": "text",
    "id": "Gmt43DlGge4z"
   },
   "source": [
    "# Get Tweets"
   ]
  },
  {
   "cell_type": "code",
   "execution_count": null,
   "metadata": {
    "colab": {},
    "colab_type": "code",
    "id": "aqGLwxAngrUI"
   },
   "outputs": [],
   "source": [
    "!pip install nest_asyncio\n",
    "!pip install twint"
   ]
  },
  {
   "cell_type": "code",
   "execution_count": null,
   "metadata": {
    "colab": {},
    "colab_type": "code",
    "id": "kuPaesWQgtk-"
   },
   "outputs": [],
   "source": [
    "import pandas as pd\n",
    "import nest_asyncio\n",
    "import twint"
   ]
  },
  {
   "cell_type": "code",
   "execution_count": null,
   "metadata": {
    "colab": {},
    "colab_type": "code",
    "id": "hCQVjt_3g1a_"
   },
   "outputs": [],
   "source": [
    "#UPLOAD THE DATASETS FIRST\n",
    "fakenews = pd.read_csv(path)\n",
    "realnews = pd.read_csv(path)"
   ]
  },
  {
   "cell_type": "markdown",
   "metadata": {
    "colab_type": "text",
    "id": "z_Q1uyTmhPRY"
   },
   "source": [
    "# User Details"
   ]
  },
  {
   "cell_type": "code",
   "execution_count": null,
   "metadata": {
    "colab": {},
    "colab_type": "code",
    "id": "c8jLu1vDh_Zv"
   },
   "outputs": [],
   "source": [
    "import pandas as pd\n",
    "import requests\n",
    "import time\n",
    "import twint\n",
    "##pip install --upgrade -e git+https://github.com/twintproject/twint.git@origin/master#egg=twint"
   ]
  },
  {
   "cell_type": "code",
   "execution_count": null,
   "metadata": {
    "colab": {},
    "colab_type": "code",
    "id": "75PTDsyFhSFq"
   },
   "outputs": [],
   "source": [
    "#Upload Fake tweets and Real tweets dataset\n",
    "df1 = pd.read_csv(\"faketweetsfinal.csv\")\n",
    "df = pd.DataFrame(df1[\"username\"].unique().tolist()\n",
    "for i in df[\"0\"]:\n",
    "    try:\n",
    "        c = twint.Config()\n",
    "        c.Username = str(i)\n",
    "        c.Custom[\"id\"] = [\"name\",\"followers\", \"following\"]\n",
    "        c.Output = \"userfake.csv\"\n",
    "        c.Store_csv = True\n",
    "        twint.run.Lookup(c)\n",
    "    except Exception as e:\n",
    "        print(e)\n",
    "        print(i)\n",
    "\n",
    "df2 = pd.read_csv(\"realtweetsfinal.csv\")\n",
    "df = pd.DataFrame(df2[\"username\"].unique().tolist()\n",
    "for i in df[\"0\"]:\n",
    "    try:\n",
    "        c = twint.Config()\n",
    "        c.Username = str(i)\n",
    "        c.Custom[\"id\"] = [\"name\",\"followers\", \"following\"]\n",
    "        c.Output = \"userreal.csv\"\n",
    "        c.Store_csv = True\n",
    "        twint.run.Lookup(c)\n",
    "    except Exception as e:\n",
    "        print(e)\n",
    "        print(i)"
   ]
  },
  {
   "cell_type": "markdown",
   "metadata": {
    "colab_type": "text",
    "id": "EdWwTFJINZHM"
   },
   "source": [
    "# Fake Tweets Visualization"
   ]
  },
  {
   "cell_type": "code",
   "execution_count": null,
   "metadata": {
    "colab": {},
    "colab_type": "code",
    "id": "neqUeJmCNvEL"
   },
   "outputs": [],
   "source": [
    "import matplotlib.pyplot as plt"
   ]
  },
  {
   "cell_type": "code",
   "execution_count": null,
   "metadata": {
    "colab": {},
    "colab_type": "code",
    "id": "Vlxi3f_gNo7x"
   },
   "outputs": [],
   "source": [
    "fake = pd.read_csv('/content/drive/My Drive/Internship/Scrapped Data/faketweetsfinal.csv')"
   ]
  },
  {
   "cell_type": "code",
   "execution_count": null,
   "metadata": {
    "colab": {
     "base_uri": "https://localhost:8080/",
     "height": 606
    },
    "colab_type": "code",
    "id": "d8GWcgrMMZjo",
    "outputId": "8e1f139c-7f65-4adf-c65f-a2776a5a2946"
   },
   "outputs": [
    {
     "data": {
      "text/html": [
       "<div>\n",
       "<style scoped>\n",
       "    .dataframe tbody tr th:only-of-type {\n",
       "        vertical-align: middle;\n",
       "    }\n",
       "\n",
       "    .dataframe tbody tr th {\n",
       "        vertical-align: top;\n",
       "    }\n",
       "\n",
       "    .dataframe thead th {\n",
       "        text-align: right;\n",
       "    }\n",
       "</style>\n",
       "<table border=\"1\" class=\"dataframe\">\n",
       "  <thead>\n",
       "    <tr style=\"text-align: right;\">\n",
       "      <th></th>\n",
       "      <th>date</th>\n",
       "      <th>search</th>\n",
       "      <th>username</th>\n",
       "      <th>tweet</th>\n",
       "      <th>nlikes</th>\n",
       "      <th>nretweets</th>\n",
       "      <th>nreplies</th>\n",
       "      <th>class</th>\n",
       "    </tr>\n",
       "  </thead>\n",
       "  <tbody>\n",
       "    <tr>\n",
       "      <th>0</th>\n",
       "      <td>2018-01-01 09:08:06</td>\n",
       "      <td>Donald Trump Sends Out Embarrassing New Year’...</td>\n",
       "      <td>llovlyldy</td>\n",
       "      <td>@POTUS @WHITEHOUSE @PressSec @VP @GOP Donald T...</td>\n",
       "      <td>0.0</td>\n",
       "      <td>0.0</td>\n",
       "      <td>0.0</td>\n",
       "      <td>0.0</td>\n",
       "    </tr>\n",
       "    <tr>\n",
       "      <th>1</th>\n",
       "      <td>2018-01-01 05:27:31</td>\n",
       "      <td>Donald Trump Sends Out Embarrassing New Year’...</td>\n",
       "      <td>DowellBrands</td>\n",
       "      <td>Donald Trump Sends Out Embarrassing New Year’s...</td>\n",
       "      <td>0.0</td>\n",
       "      <td>0.0</td>\n",
       "      <td>0.0</td>\n",
       "      <td>0.0</td>\n",
       "    </tr>\n",
       "    <tr>\n",
       "      <th>2</th>\n",
       "      <td>2018-01-01 01:29:58</td>\n",
       "      <td>Donald Trump Sends Out Embarrassing New Year’...</td>\n",
       "      <td>AddInfoOrg</td>\n",
       "      <td>Donald Trump Sends Out Embarrassing New Year’s...</td>\n",
       "      <td>1.0</td>\n",
       "      <td>7.0</td>\n",
       "      <td>1.0</td>\n",
       "      <td>0.0</td>\n",
       "    </tr>\n",
       "    <tr>\n",
       "      <th>3</th>\n",
       "      <td>2018-01-03 05:29:18</td>\n",
       "      <td>Drunk Bragging Trump Staffer Started Russian ...</td>\n",
       "      <td>Paulhaider74</td>\n",
       "      <td>Drunk Bragging Trump Staffer Started Russian C...</td>\n",
       "      <td>2.0</td>\n",
       "      <td>1.0</td>\n",
       "      <td>0.0</td>\n",
       "      <td>0.0</td>\n",
       "    </tr>\n",
       "    <tr>\n",
       "      <th>4</th>\n",
       "      <td>2018-01-01 13:44:02</td>\n",
       "      <td>Drunk Bragging Trump Staffer Started Russian ...</td>\n",
       "      <td>20_election</td>\n",
       "      <td>Drunk Bragging Trump Staffer Started Russian C...</td>\n",
       "      <td>0.0</td>\n",
       "      <td>0.0</td>\n",
       "      <td>0.0</td>\n",
       "      <td>0.0</td>\n",
       "    </tr>\n",
       "    <tr>\n",
       "      <th>...</th>\n",
       "      <td>...</td>\n",
       "      <td>...</td>\n",
       "      <td>...</td>\n",
       "      <td>...</td>\n",
       "      <td>...</td>\n",
       "      <td>...</td>\n",
       "      <td>...</td>\n",
       "      <td>...</td>\n",
       "    </tr>\n",
       "    <tr>\n",
       "      <th>12949</th>\n",
       "      <td>2017-06-02 16:13:56</td>\n",
       "      <td>White House Sinks To New Lows Of Obstruction;...</td>\n",
       "      <td>AddInfoOrg</td>\n",
       "      <td>White House Sinks To New Lows Of Obstruction; ...</td>\n",
       "      <td>8.0</td>\n",
       "      <td>11.0</td>\n",
       "      <td>0.0</td>\n",
       "      <td>0.0</td>\n",
       "    </tr>\n",
       "    <tr>\n",
       "      <th>12950</th>\n",
       "      <td>2017-06-03 02:07:54</td>\n",
       "      <td>Trump’s Ego Goes Into Overdrive As He Retweet...</td>\n",
       "      <td>CraigCo62</td>\n",
       "      <td>Trump’s Ego Goes Into Overdrive As He Retweets...</td>\n",
       "      <td>5.0</td>\n",
       "      <td>4.0</td>\n",
       "      <td>1.0</td>\n",
       "      <td>0.0</td>\n",
       "    </tr>\n",
       "    <tr>\n",
       "      <th>12951</th>\n",
       "      <td>2017-06-02 18:02:47</td>\n",
       "      <td>Trump’s Ego Goes Into Overdrive As He Retweet...</td>\n",
       "      <td>silverweb_7</td>\n",
       "      <td>Trump’s Ego Goes Into Overdrive As He Retweets...</td>\n",
       "      <td>0.0</td>\n",
       "      <td>1.0</td>\n",
       "      <td>0.0</td>\n",
       "      <td>0.0</td>\n",
       "    </tr>\n",
       "    <tr>\n",
       "      <th>12952</th>\n",
       "      <td>2017-06-02 15:51:30</td>\n",
       "      <td>Trump’s Ego Goes Into Overdrive As He Retweet...</td>\n",
       "      <td>jmsexton_</td>\n",
       "      <td>Trump’s Ego Goes Into Overdrive As He Retweets...</td>\n",
       "      <td>4.0</td>\n",
       "      <td>2.0</td>\n",
       "      <td>1.0</td>\n",
       "      <td>0.0</td>\n",
       "    </tr>\n",
       "    <tr>\n",
       "      <th>12953</th>\n",
       "      <td>2017-06-02 15:47:47</td>\n",
       "      <td>Trump’s Ego Goes Into Overdrive As He Retweet...</td>\n",
       "      <td>sellwithmarcy</td>\n",
       "      <td>Trump’s Ego Goes Into Overdrive As He Retweets...</td>\n",
       "      <td>NaN</td>\n",
       "      <td>NaN</td>\n",
       "      <td>NaN</td>\n",
       "      <td>NaN</td>\n",
       "    </tr>\n",
       "  </tbody>\n",
       "</table>\n",
       "<p>12954 rows × 8 columns</p>\n",
       "</div>"
      ],
      "text/plain": [
       "                      date  ... class\n",
       "0      2018-01-01 09:08:06  ...   0.0\n",
       "1      2018-01-01 05:27:31  ...   0.0\n",
       "2      2018-01-01 01:29:58  ...   0.0\n",
       "3      2018-01-03 05:29:18  ...   0.0\n",
       "4      2018-01-01 13:44:02  ...   0.0\n",
       "...                    ...  ...   ...\n",
       "12949  2017-06-02 16:13:56  ...   0.0\n",
       "12950  2017-06-03 02:07:54  ...   0.0\n",
       "12951  2017-06-02 18:02:47  ...   0.0\n",
       "12952  2017-06-02 15:51:30  ...   0.0\n",
       "12953  2017-06-02 15:47:47  ...   NaN\n",
       "\n",
       "[12954 rows x 8 columns]"
      ]
     },
     "execution_count": 10,
     "metadata": {
      "tags": []
     },
     "output_type": "execute_result"
    }
   ],
   "source": [
    "fake"
   ]
  },
  {
   "cell_type": "code",
   "execution_count": null,
   "metadata": {
    "colab": {
     "base_uri": "https://localhost:8080/",
     "height": 80
    },
    "colab_type": "code",
    "id": "EyZTlGiw2zJU",
    "outputId": "2d78973d-9b73-403e-aefb-8934a8777d95"
   },
   "outputs": [
    {
     "data": {
      "text/html": [
       "<div>\n",
       "<style scoped>\n",
       "    .dataframe tbody tr th:only-of-type {\n",
       "        vertical-align: middle;\n",
       "    }\n",
       "\n",
       "    .dataframe tbody tr th {\n",
       "        vertical-align: top;\n",
       "    }\n",
       "\n",
       "    .dataframe thead th {\n",
       "        text-align: right;\n",
       "    }\n",
       "</style>\n",
       "<table border=\"1\" class=\"dataframe\">\n",
       "  <thead>\n",
       "    <tr style=\"text-align: right;\">\n",
       "      <th></th>\n",
       "      <th>nlikes</th>\n",
       "      <th>nretweets</th>\n",
       "      <th>nreplies</th>\n",
       "    </tr>\n",
       "  </thead>\n",
       "  <tbody>\n",
       "    <tr>\n",
       "      <th>0</th>\n",
       "      <td>0.0</td>\n",
       "      <td>0.0</td>\n",
       "      <td>0.0</td>\n",
       "    </tr>\n",
       "  </tbody>\n",
       "</table>\n",
       "</div>"
      ],
      "text/plain": [
       "   nlikes  nretweets  nreplies\n",
       "0     0.0        0.0       0.0"
      ]
     },
     "execution_count": 14,
     "metadata": {
      "tags": []
     },
     "output_type": "execute_result"
    }
   ],
   "source": [
    "fake[['nlikes','nretweets','nreplies']].mode()#.plot(kind=\"bar\")"
   ]
  },
  {
   "cell_type": "code",
   "execution_count": null,
   "metadata": {
    "colab": {
     "base_uri": "https://localhost:8080/",
     "height": 265
    },
    "colab_type": "code",
    "id": "p-3FqONS3rJ_",
    "outputId": "9e6185e3-ad08-45e2-9c5c-32a60931b7fe"
   },
   "outputs": [
    {
     "data": {
      "text/plain": [
       "<matplotlib.axes._subplots.AxesSubplot at 0x7fc5c603d8d0>"
      ]
     },
     "execution_count": 15,
     "metadata": {
      "tags": []
     },
     "output_type": "execute_result"
    },
    {
     "data": {
      "image/png": "[encoded data removed]",
      "text/plain": [
       "<Figure size 432x288 with 1 Axes>"
      ]
     },
     "metadata": {
      "tags": []
     },
     "output_type": "display_data"
    }
   ],
   "source": [
    "fake['nlikes'].value_counts().plot(kind='pie')"
   ]
  },
  {
   "cell_type": "code",
   "execution_count": null,
   "metadata": {
    "colab": {
     "base_uri": "https://localhost:8080/",
     "height": 265
    },
    "colab_type": "code",
    "id": "ILiQpS_D4FsL",
    "outputId": "d43de5c2-7b4c-4ecc-ca2b-e6b733f81e1d"
   },
   "outputs": [
    {
     "data": {
      "text/plain": [
       "<matplotlib.axes._subplots.AxesSubplot at 0x7fc5c5efb4e0>"
      ]
     },
     "execution_count": 16,
     "metadata": {
      "tags": []
     },
     "output_type": "execute_result"
    },
    {
     "data": {
      "image/png": "[encoded data removed]",
      "text/plain": [
       "<Figure size 432x288 with 1 Axes>"
      ]
     },
     "metadata": {
      "tags": []
     },
     "output_type": "display_data"
    }
   ],
   "source": [
    "fake['nretweets'].value_counts().plot(kind='pie')"
   ]
  },
  {
   "cell_type": "code",
   "execution_count": null,
   "metadata": {
    "colab": {
     "base_uri": "https://localhost:8080/",
     "height": 265
    },
    "colab_type": "code",
    "id": "r0_Y-DpNyxAX",
    "outputId": "0d93efcc-0189-4fee-f68c-8ce8fd0a9e5b"
   },
   "outputs": [
    {
     "data": {
      "text/plain": [
       "<matplotlib.axes._subplots.AxesSubplot at 0x7fc5c58f32b0>"
      ]
     },
     "execution_count": 17,
     "metadata": {
      "tags": []
     },
     "output_type": "execute_result"
    },
    {
     "data": {
      "image/png": "[encoded data removed]",
      "text/plain": [
       "<Figure size 432x288 with 1 Axes>"
      ]
     },
     "metadata": {
      "tags": []
     },
     "output_type": "display_data"
    }
   ],
   "source": [
    "fake['nreplies'].value_counts().plot(kind='pie')"
   ]
  },
  {
   "cell_type": "code",
   "execution_count": null,
   "metadata": {
    "colab": {
     "base_uri": "https://localhost:8080/",
     "height": 170
    },
    "colab_type": "code",
    "id": "cDtnzkk1y-O_",
    "outputId": "442b56d8-eef9-4bd6-822f-a1f1c3d71577"
   },
   "outputs": [
    {
     "data": {
      "text/plain": [
       "date                                       2017-11-04 23:09:06\n",
       "search        Former Watergate Prosecutor: Mueller Could Ga...\n",
       "username                                               thehill\n",
       "tweet        Former Watergate prosecutor: Mueller could obt...\n",
       "nlikes                                                     324\n",
       "nretweets                                                  145\n",
       "nreplies                                                   101\n",
       "class                                                        0\n",
       "Name: 1235, dtype: object"
      ]
     },
     "execution_count": 18,
     "metadata": {
      "tags": []
     },
     "output_type": "execute_result"
    }
   ],
   "source": [
    "fake.iloc[1235,:]"
   ]
  },
  {
   "cell_type": "markdown",
   "metadata": {
    "colab_type": "text",
    "id": "SysfLIiDNE1-"
   },
   "source": [
    "# Real Tweets Visualization "
   ]
  },
  {
   "cell_type": "code",
   "execution_count": null,
   "metadata": {
    "colab": {},
    "colab_type": "code",
    "id": "YPopIL-YNf6R"
   },
   "outputs": [],
   "source": [
    "import matplotlib.pyplot as plt"
   ]
  },
  {
   "cell_type": "code",
   "execution_count": null,
   "metadata": {
    "colab": {},
    "colab_type": "code",
    "id": "vBkqQMkxqCkk"
   },
   "outputs": [],
   "source": [
    "real = pd.read_csv('/content/drive/My Drive/Internship/Scrapped Data/realtweetsfinal.csv')"
   ]
  },
  {
   "cell_type": "code",
   "execution_count": null,
   "metadata": {
    "colab": {
     "base_uri": "https://localhost:8080/",
     "height": 406
    },
    "colab_type": "code",
    "id": "nWPF0PKPo7QN",
    "outputId": "45f7a826-3367-4081-e15e-f73541d61955"
   },
   "outputs": [
    {
     "data": {
      "text/html": [
       "<div>\n",
       "<style scoped>\n",
       "    .dataframe tbody tr th:only-of-type {\n",
       "        vertical-align: middle;\n",
       "    }\n",
       "\n",
       "    .dataframe tbody tr th {\n",
       "        vertical-align: top;\n",
       "    }\n",
       "\n",
       "    .dataframe thead th {\n",
       "        text-align: right;\n",
       "    }\n",
       "</style>\n",
       "<table border=\"1\" class=\"dataframe\">\n",
       "  <thead>\n",
       "    <tr style=\"text-align: right;\">\n",
       "      <th></th>\n",
       "      <th>date</th>\n",
       "      <th>search</th>\n",
       "      <th>username</th>\n",
       "      <th>tweet</th>\n",
       "      <th>nlikes</th>\n",
       "      <th>nretweets</th>\n",
       "      <th>nreplies</th>\n",
       "      <th>class</th>\n",
       "    </tr>\n",
       "  </thead>\n",
       "  <tbody>\n",
       "    <tr>\n",
       "      <th>0</th>\n",
       "      <td>2018-01-02 18:36:39</td>\n",
       "      <td>As U.S. budget fight looms, Republicans flip t...</td>\n",
       "      <td>c82b5001896b4ae</td>\n",
       "      <td>As U.S. budget fight looms, Republicans flip t...</td>\n",
       "      <td>1</td>\n",
       "      <td>1</td>\n",
       "      <td>0</td>\n",
       "      <td>1</td>\n",
       "    </tr>\n",
       "    <tr>\n",
       "      <th>1</th>\n",
       "      <td>2018-01-02 18:19:22</td>\n",
       "      <td>As U.S. budget fight looms, Republicans flip t...</td>\n",
       "      <td>TimBrellow</td>\n",
       "      <td>As U.S. budget fight looms, Republicans flip t...</td>\n",
       "      <td>2</td>\n",
       "      <td>2</td>\n",
       "      <td>0</td>\n",
       "      <td>1</td>\n",
       "    </tr>\n",
       "    <tr>\n",
       "      <th>2</th>\n",
       "      <td>2018-01-02 12:53:22</td>\n",
       "      <td>As U.S. budget fight looms, Republicans flip t...</td>\n",
       "      <td>tomhicksva1</td>\n",
       "      <td>Dems need to call out Repub hypocrisy, oppose ...</td>\n",
       "      <td>5</td>\n",
       "      <td>3</td>\n",
       "      <td>0</td>\n",
       "      <td>1</td>\n",
       "    </tr>\n",
       "    <tr>\n",
       "      <th>3</th>\n",
       "      <td>2018-01-02 12:17:13</td>\n",
       "      <td>As U.S. budget fight looms, Republicans flip t...</td>\n",
       "      <td>TrickFreee</td>\n",
       "      <td>No way... who'd have predicted that....? 🙄\\nAs...</td>\n",
       "      <td>13</td>\n",
       "      <td>9</td>\n",
       "      <td>1</td>\n",
       "      <td>1</td>\n",
       "    </tr>\n",
       "    <tr>\n",
       "      <th>4</th>\n",
       "      <td>2018-01-02 03:43:38</td>\n",
       "      <td>As U.S. budget fight looms, Republicans flip t...</td>\n",
       "      <td>TWD913</td>\n",
       "      <td>As U.S. budget fight looms, Republicans flip t...</td>\n",
       "      <td>1</td>\n",
       "      <td>1</td>\n",
       "      <td>0</td>\n",
       "      <td>1</td>\n",
       "    </tr>\n",
       "    <tr>\n",
       "      <th>...</th>\n",
       "      <td>...</td>\n",
       "      <td>...</td>\n",
       "      <td>...</td>\n",
       "      <td>...</td>\n",
       "      <td>...</td>\n",
       "      <td>...</td>\n",
       "      <td>...</td>\n",
       "      <td>...</td>\n",
       "    </tr>\n",
       "    <tr>\n",
       "      <th>29269</th>\n",
       "      <td>2017-04-28 18:36:38</td>\n",
       "      <td>Trump aims to expand U.S. offshore drilling, d...</td>\n",
       "      <td>UStatesBlues</td>\n",
       "      <td>Trump aims to expand U.S. offshore drilling, d...</td>\n",
       "      <td>2</td>\n",
       "      <td>1</td>\n",
       "      <td>2</td>\n",
       "      <td>1</td>\n",
       "    </tr>\n",
       "    <tr>\n",
       "      <th>29270</th>\n",
       "      <td>2017-04-28 17:41:57</td>\n",
       "      <td>Trump aims to expand U.S. offshore drilling, d...</td>\n",
       "      <td>RTSProjectEarth</td>\n",
       "      <td>New post: Trump aims to expand U.S. offshore d...</td>\n",
       "      <td>2</td>\n",
       "      <td>3</td>\n",
       "      <td>3</td>\n",
       "      <td>1</td>\n",
       "    </tr>\n",
       "    <tr>\n",
       "      <th>29271</th>\n",
       "      <td>2017-04-28 17:26:11</td>\n",
       "      <td>Trump aims to expand U.S. offshore drilling, d...</td>\n",
       "      <td>RitaLynnLyman</td>\n",
       "      <td>Can someone please explain this 2 him? \"Trump ...</td>\n",
       "      <td>1</td>\n",
       "      <td>1</td>\n",
       "      <td>0</td>\n",
       "      <td>1</td>\n",
       "    </tr>\n",
       "    <tr>\n",
       "      <th>29272</th>\n",
       "      <td>2017-04-28 16:45:22</td>\n",
       "      <td>Trump aims to expand U.S. offshore drilling, d...</td>\n",
       "      <td>Roodhouse</td>\n",
       "      <td>\"Trump aims to expand U.S. offshore drilling, ...</td>\n",
       "      <td>1</td>\n",
       "      <td>1</td>\n",
       "      <td>0</td>\n",
       "      <td>1</td>\n",
       "    </tr>\n",
       "    <tr>\n",
       "      <th>29273</th>\n",
       "      <td>2017-04-28 16:37:38</td>\n",
       "      <td>Trump aims to expand U.S. offshore drilling, d...</td>\n",
       "      <td>InSpiteOfTrump</td>\n",
       "      <td>Trump aims to expand U.S. offshore drilling, d...</td>\n",
       "      <td>1</td>\n",
       "      <td>3</td>\n",
       "      <td>1</td>\n",
       "      <td>1</td>\n",
       "    </tr>\n",
       "  </tbody>\n",
       "</table>\n",
       "<p>29274 rows × 8 columns</p>\n",
       "</div>"
      ],
      "text/plain": [
       "                      date  ... class\n",
       "0      2018-01-02 18:36:39  ...     1\n",
       "1      2018-01-02 18:19:22  ...     1\n",
       "2      2018-01-02 12:53:22  ...     1\n",
       "3      2018-01-02 12:17:13  ...     1\n",
       "4      2018-01-02 03:43:38  ...     1\n",
       "...                    ...  ...   ...\n",
       "29269  2017-04-28 18:36:38  ...     1\n",
       "29270  2017-04-28 17:41:57  ...     1\n",
       "29271  2017-04-28 17:26:11  ...     1\n",
       "29272  2017-04-28 16:45:22  ...     1\n",
       "29273  2017-04-28 16:37:38  ...     1\n",
       "\n",
       "[29274 rows x 8 columns]"
      ]
     },
     "execution_count": 17,
     "metadata": {
      "tags": []
     },
     "output_type": "execute_result"
    }
   ],
   "source": [
    "real"
   ]
  },
  {
   "cell_type": "code",
   "execution_count": null,
   "metadata": {
    "colab": {
     "base_uri": "https://localhost:8080/",
     "height": 265
    },
    "colab_type": "code",
    "id": "qkg3BVgnoLd0",
    "outputId": "706a3e4f-2693-457b-f806-db461ad22d51"
   },
   "outputs": [
    {
     "data": {
      "text/plain": [
       "<matplotlib.axes._subplots.AxesSubplot at 0x7f67683fefd0>"
      ]
     },
     "execution_count": 38,
     "metadata": {
      "tags": []
     },
     "output_type": "execute_result"
    },
    {
     "data": {
      "image/png": "[encoded data removed]",
      "text/plain": [
       "<Figure size 432x288 with 1 Axes>"
      ]
     },
     "metadata": {
      "tags": []
     },
     "output_type": "display_data"
    }
   ],
   "source": [
    "real['nlikes'].value_counts().plot(kind='pie')"
   ]
  },
  {
   "cell_type": "code",
   "execution_count": null,
   "metadata": {
    "colab": {
     "base_uri": "https://localhost:8080/",
     "height": 265
    },
    "colab_type": "code",
    "id": "XSeX_-7Htj3C",
    "outputId": "8167c2fe-cee4-49d8-92f8-bd0804bc1fa4"
   },
   "outputs": [
    {
     "data": {
      "text/plain": [
       "<matplotlib.axes._subplots.AxesSubplot at 0x7f6763c16518>"
      ]
     },
     "execution_count": 47,
     "metadata": {
      "tags": []
     },
     "output_type": "execute_result"
    },
    {
     "data": {
      "image/png": "[encoded data removed]",
      "text/plain": [
       "<Figure size 432x288 with 1 Axes>"
      ]
     },
     "metadata": {
      "tags": []
     },
     "output_type": "display_data"
    }
   ],
   "source": [
    "real['nretweets'].value_counts().plot(kind='pie')"
   ]
  },
  {
   "cell_type": "code",
   "execution_count": null,
   "metadata": {
    "colab": {
     "base_uri": "https://localhost:8080/",
     "height": 265
    },
    "colab_type": "code",
    "id": "8fdfpAphto_O",
    "outputId": "c17f1d01-4887-4fe8-eea2-994bb0bf4cff"
   },
   "outputs": [
    {
     "data": {
      "text/plain": [
       "<matplotlib.axes._subplots.AxesSubplot at 0x7f6763ae3278>"
      ]
     },
     "execution_count": 48,
     "metadata": {
      "tags": []
     },
     "output_type": "execute_result"
    },
    {
     "data": {
      "image/png": "[encoded data removed]",
      "text/plain": [
       "<Figure size 432x288 with 1 Axes>"
      ]
     },
     "metadata": {
      "tags": []
     },
     "output_type": "display_data"
    }
   ],
   "source": [
    "real['nreplies'].value_counts().plot(kind='pie')"
   ]
  },
  {
   "cell_type": "code",
   "execution_count": null,
   "metadata": {
    "colab": {
     "base_uri": "https://localhost:8080/",
     "height": 34
    },
    "colab_type": "code",
    "id": "LO_56HBNpbhP",
    "outputId": "88bd0cb4-5778-4cd9-8818-a5050260a231"
   },
   "outputs": [
    {
     "data": {
      "text/plain": [
       "4090"
      ]
     },
     "execution_count": 41,
     "metadata": {
      "tags": []
     },
     "output_type": "execute_result"
    }
   ],
   "source": [
    "real['nlikes'].max()"
   ]
  },
  {
   "cell_type": "code",
   "execution_count": null,
   "metadata": {
    "colab": {
     "base_uri": "https://localhost:8080/",
     "height": 34
    },
    "colab_type": "code",
    "id": "Yfr6YZadsSq1",
    "outputId": "8ced3d42-f4a1-406c-ea2e-831ae5dd4f0b"
   },
   "outputs": [
    {
     "data": {
      "text/plain": [
       "0"
      ]
     },
     "execution_count": 44,
     "metadata": {
      "tags": []
     },
     "output_type": "execute_result"
    }
   ],
   "source": [
    "real['nlikes'].min()"
   ]
  },
  {
   "cell_type": "code",
   "execution_count": null,
   "metadata": {
    "colab": {
     "base_uri": "https://localhost:8080/",
     "height": 34
    },
    "colab_type": "code",
    "id": "M53LQi3MsD-M",
    "outputId": "d505683b-2ab2-4a75-f23a-153a7de6f686"
   },
   "outputs": [
    {
     "data": {
      "text/plain": [
       "2665"
      ]
     },
     "execution_count": 40,
     "metadata": {
      "tags": []
     },
     "output_type": "execute_result"
    }
   ],
   "source": [
    "real['nretweets'].max()"
   ]
  },
  {
   "cell_type": "code",
   "execution_count": null,
   "metadata": {
    "colab": {
     "base_uri": "https://localhost:8080/",
     "height": 34
    },
    "colab_type": "code",
    "id": "vFAbYRJ4sXlY",
    "outputId": "44f5e08e-a350-41c1-de8b-d9deea5f01b0"
   },
   "outputs": [
    {
     "data": {
      "text/plain": [
       "0"
      ]
     },
     "execution_count": 45,
     "metadata": {
      "tags": []
     },
     "output_type": "execute_result"
    }
   ],
   "source": [
    "real['nretweets'].min()"
   ]
  },
  {
   "cell_type": "code",
   "execution_count": null,
   "metadata": {
    "colab": {
     "base_uri": "https://localhost:8080/",
     "height": 34
    },
    "colab_type": "code",
    "id": "KaaIEsAlsEml",
    "outputId": "987cde03-7951-46f1-d95c-578316f590f9"
   },
   "outputs": [
    {
     "data": {
      "text/plain": [
       "2127"
      ]
     },
     "execution_count": 43,
     "metadata": {
      "tags": []
     },
     "output_type": "execute_result"
    }
   ],
   "source": [
    "real['nreplies'].max()"
   ]
  },
  {
   "cell_type": "code",
   "execution_count": null,
   "metadata": {
    "colab": {
     "base_uri": "https://localhost:8080/",
     "height": 34
    },
    "colab_type": "code",
    "id": "EvPybo9Tsakc",
    "outputId": "e197931a-8250-4613-9f5b-20fad327c772"
   },
   "outputs": [
    {
     "data": {
      "text/plain": [
       "0"
      ]
     },
     "execution_count": 46,
     "metadata": {
      "tags": []
     },
     "output_type": "execute_result"
    }
   ],
   "source": [
    "real['nreplies'].min()"
   ]
  },
  {
   "cell_type": "markdown",
   "metadata": {
    "_uuid": "d3de9d679a696382683dbb3541477776f1d1bc98",
    "colab_type": "text",
    "id": "0-dvTKlEwVFZ"
   },
   "source": [
    "# Tweet Features"
   ]
  },
  {
   "cell_type": "code",
   "execution_count": null,
   "metadata": {
    "_uuid": "409280013946cd6a61790d9ffe2dddeaa20798df",
    "colab": {
     "base_uri": "https://localhost:8080/",
     "height": 72
    },
    "colab_type": "code",
    "id": "Ezc1qtCcwVFd",
    "outputId": "d56410e7-6782-4c43-9d71-429d23652aae"
   },
   "outputs": [
    {
     "name": "stderr",
     "output_type": "stream",
     "text": [
      "/usr/local/lib/python3.6/dist-packages/statsmodels/tools/_testing.py:19: FutureWarning: pandas.util.testing is deprecated. Use the functions in the public API at pandas.testing instead.\n",
      "  import pandas.util.testing as tm\n"
     ]
    }
   ],
   "source": [
    "# Import libraries\n",
    "import pandas as pd\n",
    "import numpy as np\n",
    "import seaborn as sns\n",
    "import matplotlib.pyplot as plt\n",
    "import nltk \n",
    "import string\n",
    "import re\n",
    "from sklearn.utils import shuffle\n",
    "from sklearn.model_selection import train_test_split\n",
    "from sklearn.preprocessing import MinMaxScaler\n",
    "from sklearn.neural_network import MLPClassifier"
   ]
  },
  {
   "cell_type": "code",
   "execution_count": null,
   "metadata": {
    "colab": {
     "base_uri": "https://localhost:8080/",
     "height": 104
    },
    "colab_type": "code",
    "id": "k3GgQnvowVFt",
    "outputId": "8e7190b4-d372-490b-8ed9-e119663e3cca"
   },
   "outputs": [
    {
     "name": "stdout",
     "output_type": "stream",
     "text": [
      "[nltk_data] Downloading package stopwords to /root/nltk_data...\n",
      "[nltk_data]   Unzipping corpora/stopwords.zip.\n",
      "[nltk_data] Downloading package wordnet to /root/nltk_data...\n",
      "[nltk_data]   Unzipping corpora/wordnet.zip.\n"
     ]
    },
    {
     "data": {
      "text/plain": [
       "True"
      ]
     },
     "execution_count": 2,
     "metadata": {
      "tags": []
     },
     "output_type": "execute_result"
    }
   ],
   "source": [
    "nltk.download('stopwords')\n",
    "nltk.download('wordnet')"
   ]
  },
  {
   "cell_type": "code",
   "execution_count": null,
   "metadata": {
    "_uuid": "0e56dae74b8e473c08590f5b467bd88b717aacf5",
    "colab": {},
    "colab_type": "code",
    "id": "j3jbiISjwVF8"
   },
   "outputs": [],
   "source": [
    "# Load dataset\n",
    "real = pd.read_csv(\"/content/realtweetsfinal.csv\")\n",
    "fake = pd.read_csv(\"/content/faketweetsfinal.csv\")"
   ]
  },
  {
   "cell_type": "markdown",
   "metadata": {
    "colab_type": "text",
    "id": "b16MEiwIOCAi"
   },
   "source": []
  },
  {
   "cell_type": "code",
   "execution_count": null,
   "metadata": {
    "colab": {},
    "colab_type": "code",
    "id": "PSpVzSXYwVGF"
   },
   "outputs": [],
   "source": [
    "real['class'] = 1\n",
    "fake['class'] = 0\n",
    "#df  = real.append(fake,ignore_index=True)\n",
    "#df = df[['username', 'tweet', 'class']]\n",
    "df = df[['username', 'tweet']]"
   ]
  },
  {
   "cell_type": "code",
   "execution_count": null,
   "metadata": {
    "colab": {},
    "colab_type": "code",
    "id": "c7_ddXVZwVGO"
   },
   "outputs": [],
   "source": [
    "user = pd.read_csv(\"/content/MLPUser.csv\")\n",
    "df = pd.merge(left = user, right=df, on='username', how='inner')"
   ]
  },
  {
   "cell_type": "code",
   "execution_count": null,
   "metadata": {
    "_uuid": "9a4007347c4ae1ada01effb18324f927522b1f58",
    "colab": {},
    "colab_type": "code",
    "id": "i4NBH3p5wVGa"
   },
   "outputs": [],
   "source": [
    "stopword = nltk.corpus.stopwords.words('english')\n",
    "stopword.extend(['yr', 'year', 'woman', 'man', 'girl','boy','one', 'two', 'sixteen', 'yearold', 'fu', 'weeks', 'week','treatment', 'associated', 'patients', 'may','day', 'case','old'])"
   ]
  },
  {
   "cell_type": "code",
   "execution_count": null,
   "metadata": {
    "_uuid": "52322831c15545f4f596ed031235d8cb00b12d66",
    "colab": {},
    "colab_type": "code",
    "id": "9JQGiejEwVGh"
   },
   "outputs": [],
   "source": [
    "def remove_punct(text):\n",
    "    text = re.sub(r\"(?i)\\b((?:https?://|www\\d{0,3}[.]|[a-z0-9.\\-]+[.][a-z]{2,4}/)(?:[^\\s()<>]+|\\(([^\\s()<>]+|(\\([^\\s()<>]+\\)))*\\))+(?:\\(([^\\s()<>]+|(\\([^\\s()<>]+\\)))*\\)|[^\\s`!()\\[\\]{};:'\\\".,<>?«»“”‘’]))\", '', text)\n",
    "    text  = \"\".join([char for char in text if char not in string.punctuation])\n",
    "    text = re.sub('[0-9]+', '', text)\n",
    "    return text\n",
    "\n",
    "def tokenization(text):\n",
    "    text = re.split('\\W+', text)\n",
    "    return text\n",
    "\n",
    "def remove_stopwords(text):\n",
    "    text = [word for word in text if word not in stopword]\n",
    "    return text\n",
    "    \n",
    "ps = nltk.PorterStemmer()\n",
    "def stemming(text):\n",
    "    text = [ps.stem(word) for word in text]\n",
    "    return text\n",
    "\n",
    "def url(text):\n",
    "    regex = r\"(?i)\\b((?:https?://|www\\d{0,3}[.]|[a-z0-9.\\-]+[.][a-z]{2,4}/)(?:[^\\s()<>]+|\\(([^\\s()<>]+|(\\([^\\s()<>]+\\)))*\\))+(?:\\(([^\\s()<>]+|(\\([^\\s()<>]+\\)))*\\)|[^\\s`!()\\[\\]{};:'\\\".,<>?«»“”‘’]))\"\n",
    "    url = re.findall(regex,text)\n",
    "    return len(url)\n",
    "\n",
    "def special(text):\n",
    "    length = len(text)\n",
    "    text = remove_punct(text)\n",
    "    special = length - len(text)\n",
    "    return special\n"
   ]
  },
  {
   "cell_type": "code",
   "execution_count": null,
   "metadata": {
    "colab": {},
    "colab_type": "code",
    "id": "N-tZUoypwVGm"
   },
   "outputs": [],
   "source": [
    "df['tweet_punct'] = df['tweet'].apply(lambda x: remove_punct(x))\n",
    "df['tweet_tokenized'] = df['tweet_punct'].apply(lambda x: tokenization(x.lower()))\n",
    "df['tweet_nonstop'] = df['tweet_tokenized'].apply(lambda x: remove_stopwords(x))\n",
    "df['tweet_stemmed'] = df['tweet_nonstop'].apply(lambda x: stemming(x))"
   ]
  },
  {
   "cell_type": "code",
   "execution_count": null,
   "metadata": {
    "colab": {},
    "colab_type": "code",
    "id": "ovn8T9XAwVGs"
   },
   "outputs": [],
   "source": [
    "df['tweet_length'] = df['tweet'].apply(len)\n",
    "df['special'] = df['tweet'].apply(special)\n",
    "df['url'] = df['tweet'].apply(url)\n",
    "df['tokens'] = df['tweet_tokenized'].apply(len)\n",
    "df['nonstop'] = df['tweet_nonstop'].apply(len)\n",
    "df['stemmed'] = df['tweet_stemmed'].apply(len)"
   ]
  },
  {
   "cell_type": "code",
   "execution_count": null,
   "metadata": {
    "colab": {
     "base_uri": "https://localhost:8080/",
     "height": 86
    },
    "colab_type": "code",
    "id": "919oY8yxwVG1",
    "outputId": "407c5410-7769-458f-b569-c30b07aae438"
   },
   "outputs": [
    {
     "data": {
      "text/plain": [
       "Index(['username', 'tweet', 'class', 'tweet_punct', 'tweet_tokenized',\n",
       "       'tweet_nonstop', 'tweet_stemmed', 'tweet_length', 'special', 'url',\n",
       "       'tokens', 'nonstop', 'stemmed'],\n",
       "      dtype='object')"
      ]
     },
     "execution_count": 21,
     "metadata": {
      "tags": []
     },
     "output_type": "execute_result"
    }
   ],
   "source": [
    "df.columns"
   ]
  },
  {
   "cell_type": "code",
   "execution_count": null,
   "metadata": {
    "colab": {},
    "colab_type": "code",
    "id": "EVWw5N3LqVF-"
   },
   "outputs": [],
   "source": [
    "real = pd.read_csv('/content/drive/My Drive/Internship/Scrapped Data/realtweetsfinal.csv')\n",
    "fake = pd.read_csv('/content/drive/My Drive/Internship/Scrapped Data/faketweetsfinal.csv')"
   ]
  },
  {
   "cell_type": "markdown",
   "metadata": {
    "colab_type": "text",
    "id": "yBMnErzhQ-cQ"
   },
   "source": [
    "# Box Plots"
   ]
  },
  {
   "cell_type": "code",
   "execution_count": null,
   "metadata": {
    "colab": {
     "base_uri": "https://localhost:8080/",
     "height": 282
    },
    "colab_type": "code",
    "id": "hsCQMYyn-Wqm",
    "outputId": "445b0781-9240-4046-902d-53d9504dd2e9"
   },
   "outputs": [
    {
     "data": {
      "text/plain": [
       "<matplotlib.axes._subplots.AxesSubplot at 0x7ff1ae245d68>"
      ]
     },
     "execution_count": 19,
     "metadata": {
      "tags": []
     },
     "output_type": "execute_result"
    },
    {
     "data": {
      "image/png": "[encoded data removed]",
      "text/plain": [
       "<Figure size 432x288 with 1 Axes>"
      ]
     },
     "metadata": {
      "needs_background": "light",
      "tags": []
     },
     "output_type": "display_data"
    }
   ],
   "source": [
    "fake_tweets.boxplot(column = ['Characters', 'urls', 'SpecialCharacters', 'Words', 'UsefulWords'])"
   ]
  },
  {
   "cell_type": "code",
   "execution_count": null,
   "metadata": {
    "colab": {
     "base_uri": "https://localhost:8080/",
     "height": 282
    },
    "colab_type": "code",
    "id": "kJBw3G0y-ZwD",
    "outputId": "6c359064-5de4-4f9a-80bb-3c881a2b328b"
   },
   "outputs": [
    {
     "data": {
      "text/plain": [
       "<matplotlib.axes._subplots.AxesSubplot at 0x7ff1ae110c50>"
      ]
     },
     "execution_count": 20,
     "metadata": {
      "tags": []
     },
     "output_type": "execute_result"
    },
    {
     "data": {
      "image/png": "[encoded data removed]",
      "text/plain": [
       "<Figure size 432x288 with 1 Axes>"
      ]
     },
     "metadata": {
      "needs_background": "light",
      "tags": []
     },
     "output_type": "display_data"
    }
   ],
   "source": [
    "real_tweets.boxplot(column = ['Characters', 'urls', 'SpecialCharacters', 'Words', 'UsefulWords'])"
   ]
  },
  {
   "cell_type": "markdown",
   "metadata": {
    "colab_type": "text",
    "id": "coR3QlI7SZ96"
   },
   "source": [
    "Characters"
   ]
  },
  {
   "cell_type": "code",
   "execution_count": null,
   "metadata": {
    "colab": {
     "base_uri": "https://localhost:8080/",
     "height": 282
    },
    "colab_type": "code",
    "id": "S4NV1x-_B5zk",
    "outputId": "4879c701-a37d-464b-d5e3-0f8dc0ab065d"
   },
   "outputs": [
    {
     "data": {
      "text/plain": [
       "<matplotlib.axes._subplots.AxesSubplot at 0x7ff1ae119710>"
      ]
     },
     "execution_count": 21,
     "metadata": {
      "tags": []
     },
     "output_type": "execute_result"
    },
    {
     "data": {
      "image/png": "[encoded data removed]",
      "text/plain": [
       "<Figure size 432x288 with 1 Axes>"
      ]
     },
     "metadata": {
      "needs_background": "light",
      "tags": []
     },
     "output_type": "display_data"
    }
   ],
   "source": [
    "fake_tweets.boxplot(column = ['Characters'])"
   ]
  },
  {
   "cell_type": "code",
   "execution_count": null,
   "metadata": {
    "colab": {
     "base_uri": "https://localhost:8080/",
     "height": 282
    },
    "colab_type": "code",
    "id": "s9b_gkZWSJdA",
    "outputId": "480a1777-4656-4fb3-fd89-e903ffa9dab7"
   },
   "outputs": [
    {
     "data": {
      "text/plain": [
       "<matplotlib.axes._subplots.AxesSubplot at 0x7ff1adc79e80>"
      ]
     },
     "execution_count": 22,
     "metadata": {
      "tags": []
     },
     "output_type": "execute_result"
    },
    {
     "data": {
      "image/png": "[encoded data removed]",
      "text/plain": [
       "<Figure size 432x288 with 1 Axes>"
      ]
     },
     "metadata": {
      "needs_background": "light",
      "tags": []
     },
     "output_type": "display_data"
    }
   ],
   "source": [
    "real_tweets.boxplot(column = ['Characters'])"
   ]
  },
  {
   "cell_type": "markdown",
   "metadata": {
    "colab_type": "text",
    "id": "HCwEQS77SgAq"
   },
   "source": [
    "Useful Words"
   ]
  },
  {
   "cell_type": "code",
   "execution_count": null,
   "metadata": {
    "colab": {
     "base_uri": "https://localhost:8080/",
     "height": 282
    },
    "colab_type": "code",
    "id": "UDgFnHyKCBHq",
    "outputId": "20459a82-3c84-4199-eecd-288ffd4b2ca1"
   },
   "outputs": [
    {
     "data": {
      "text/plain": [
       "<matplotlib.axes._subplots.AxesSubplot at 0x7ff1adb51940>"
      ]
     },
     "execution_count": 23,
     "metadata": {
      "tags": []
     },
     "output_type": "execute_result"
    },
    {
     "data": {
      "image/png": "[encoded data removed]",
      "text/plain": [
       "<Figure size 432x288 with 1 Axes>"
      ]
     },
     "metadata": {
      "needs_background": "light",
      "tags": []
     },
     "output_type": "display_data"
    }
   ],
   "source": [
    "fake_tweets.boxplot(column = ['UsefulWords'])"
   ]
  },
  {
   "cell_type": "code",
   "execution_count": null,
   "metadata": {
    "colab": {
     "base_uri": "https://localhost:8080/",
     "height": 282
    },
    "colab_type": "code",
    "id": "x2dwjhg9SQoZ",
    "outputId": "36b556de-4975-4d39-f4e0-b775358d95d3"
   },
   "outputs": [
    {
     "data": {
      "text/plain": [
       "<matplotlib.axes._subplots.AxesSubplot at 0x7ff1adaba3c8>"
      ]
     },
     "execution_count": 24,
     "metadata": {
      "tags": []
     },
     "output_type": "execute_result"
    },
    {
     "data": {
      "image/png": "[encoded data removed]",
      "text/plain": [
       "<Figure size 432x288 with 1 Axes>"
      ]
     },
     "metadata": {
      "needs_background": "light",
      "tags": []
     },
     "output_type": "display_data"
    }
   ],
   "source": [
    "real_tweets.boxplot(column = ['UsefulWords'])"
   ]
  },
  {
   "cell_type": "markdown",
   "metadata": {
    "colab_type": "text",
    "id": "HW18MJf6SiVg"
   },
   "source": [
    "URLS"
   ]
  },
  {
   "cell_type": "code",
   "execution_count": null,
   "metadata": {
    "colab": {
     "base_uri": "https://localhost:8080/",
     "height": 282
    },
    "colab_type": "code",
    "id": "SF_Ab5VvCIx7",
    "outputId": "c9daf448-8de9-477b-af57-28ffd9f0536c"
   },
   "outputs": [
    {
     "data": {
      "text/plain": [
       "<matplotlib.axes._subplots.AxesSubplot at 0x7ff1adaa6550>"
      ]
     },
     "execution_count": 25,
     "metadata": {
      "tags": []
     },
     "output_type": "execute_result"
    },
    {
     "data": {
      "image/png": "[encoded data removed]",
      "text/plain": [
       "<Figure size 432x288 with 1 Axes>"
      ]
     },
     "metadata": {
      "needs_background": "light",
      "tags": []
     },
     "output_type": "display_data"
    }
   ],
   "source": [
    "fake_tweets.boxplot(column = [ 'urls'])"
   ]
  },
  {
   "cell_type": "code",
   "execution_count": null,
   "metadata": {
    "colab": {
     "base_uri": "https://localhost:8080/",
     "height": 282
    },
    "colab_type": "code",
    "id": "VmH9-1FgSTGV",
    "outputId": "59abb49d-c410-451d-b245-f01d402e751b"
   },
   "outputs": [
    {
     "data": {
      "text/plain": [
       "<matplotlib.axes._subplots.AxesSubplot at 0x7ff1ada12710>"
      ]
     },
     "execution_count": 26,
     "metadata": {
      "tags": []
     },
     "output_type": "execute_result"
    },
    {
     "data": {
      "image/png": "[encoded data removed]",
      "text/plain": [
       "<Figure size 432x288 with 1 Axes>"
      ]
     },
     "metadata": {
      "needs_background": "light",
      "tags": []
     },
     "output_type": "display_data"
    }
   ],
   "source": [
    "real_tweets.boxplot(column = [ 'urls'])"
   ]
  },
  {
   "cell_type": "markdown",
   "metadata": {
    "colab_type": "text",
    "id": "7tcM-xNdS2DB"
   },
   "source": [
    "Special chaaracters"
   ]
  },
  {
   "cell_type": "code",
   "execution_count": null,
   "metadata": {
    "colab": {
     "base_uri": "https://localhost:8080/",
     "height": 282
    },
    "colab_type": "code",
    "id": "0rKWy6yPSUBP",
    "outputId": "f9a4b5a8-ee16-439f-bf9f-93c5cdbfa6a1"
   },
   "outputs": [
    {
     "data": {
      "text/plain": [
       "<matplotlib.axes._subplots.AxesSubplot at 0x7ff1ad985240>"
      ]
     },
     "execution_count": 27,
     "metadata": {
      "tags": []
     },
     "output_type": "execute_result"
    },
    {
     "data": {
      "image/png": "[encoded data removed]",
      "text/plain": [
       "<Figure size 432x288 with 1 Axes>"
      ]
     },
     "metadata": {
      "needs_background": "light",
      "tags": []
     },
     "output_type": "display_data"
    }
   ],
   "source": [
    "fake_tweets.boxplot(column = [ 'SpecialCharacters'])"
   ]
  },
  {
   "cell_type": "code",
   "execution_count": null,
   "metadata": {
    "colab": {
     "base_uri": "https://localhost:8080/",
     "height": 283
    },
    "colab_type": "code",
    "id": "vE5cf03NSvAJ",
    "outputId": "84ce387b-a0eb-43bf-8f3f-a716aa91144a"
   },
   "outputs": [
    {
     "data": {
      "text/plain": [
       "<matplotlib.axes._subplots.AxesSubplot at 0x7ff1ad776a90>"
      ]
     },
     "execution_count": 29,
     "metadata": {
      "tags": []
     },
     "output_type": "execute_result"
    },
    {
     "data": {
      "image/png": "[encoded data removed]",
      "text/plain": [
       "<Figure size 432x288 with 1 Axes>"
      ]
     },
     "metadata": {
      "needs_background": "light",
      "tags": []
     },
     "output_type": "display_data"
    }
   ],
   "source": [
    "real_tweets.boxplot(column = [ 'SpecialCharacters'])"
   ]
  },
  {
   "cell_type": "markdown",
   "metadata": {
    "colab_type": "text",
    "id": "A3L3hcbJS4rj"
   },
   "source": [
    "Words"
   ]
  },
  {
   "cell_type": "code",
   "execution_count": null,
   "metadata": {
    "colab": {
     "base_uri": "https://localhost:8080/",
     "height": 285
    },
    "colab_type": "code",
    "id": "JszRjZF4S5x2",
    "outputId": "1e79a8e3-1b20-48b3-ece3-12dcfb1a3a7f"
   },
   "outputs": [
    {
     "data": {
      "text/plain": [
       "<matplotlib.axes._subplots.AxesSubplot at 0x7ff1ad6426d8>"
      ]
     },
     "execution_count": 31,
     "metadata": {
      "tags": []
     },
     "output_type": "execute_result"
    },
    {
     "data": {
      "image/png": "[encoded data removed]",
      "text/plain": [
       "<Figure size 432x288 with 1 Axes>"
      ]
     },
     "metadata": {
      "needs_background": "light",
      "tags": []
     },
     "output_type": "display_data"
    }
   ],
   "source": [
    "fake_tweets.boxplot(column = [ 'Words'])"
   ]
  },
  {
   "cell_type": "code",
   "execution_count": null,
   "metadata": {
    "colab": {
     "base_uri": "https://localhost:8080/",
     "height": 285
    },
    "colab_type": "code",
    "id": "LnjkRqcTS-Uo",
    "outputId": "dd7cade5-d222-4f3d-a4be-ac41c0577cc6"
   },
   "outputs": [
    {
     "data": {
      "text/plain": [
       "<matplotlib.axes._subplots.AxesSubplot at 0x7ff1ad668da0>"
      ]
     },
     "execution_count": 32,
     "metadata": {
      "tags": []
     },
     "output_type": "execute_result"
    },
    {
     "data": {
      "image/png": "[encoded data removed]",
      "text/plain": [
       "<Figure size 432x288 with 1 Axes>"
      ]
     },
     "metadata": {
      "needs_background": "light",
      "tags": []
     },
     "output_type": "display_data"
    }
   ],
   "source": [
    "real_tweets.boxplot(column = [ 'Words'])"
   ]
  },
  {
   "cell_type": "markdown",
   "metadata": {
    "colab_type": "text",
    "id": "eCUNkYMRkFx6"
   },
   "source": [
    "# **Models**"
   ]
  },
  {
   "cell_type": "markdown",
   "metadata": {
    "colab_type": "text",
    "id": "c49WLc82lsE6"
   },
   "source": [
    "## Without Bio"
   ]
  },
  {
   "cell_type": "code",
   "execution_count": null,
   "metadata": {
    "colab": {},
    "colab_type": "code",
    "id": "kuQhFNhurXT_"
   },
   "outputs": [],
   "source": [
    "data = data[['age','tweets','following','followers','likes','media','class']]"
   ]
  },
  {
   "cell_type": "code",
   "execution_count": null,
   "metadata": {
    "colab": {
     "base_uri": "https://localhost:8080/",
     "height": 204
    },
    "colab_type": "code",
    "id": "nPyZpupPFK1R",
    "outputId": "5912d7e2-1d3d-4389-e202-f78facf8f1b9"
   },
   "outputs": [
    {
     "data": {
      "text/html": [
       "<div>\n",
       "<style scoped>\n",
       "    .dataframe tbody tr th:only-of-type {\n",
       "        vertical-align: middle;\n",
       "    }\n",
       "\n",
       "    .dataframe tbody tr th {\n",
       "        vertical-align: top;\n",
       "    }\n",
       "\n",
       "    .dataframe thead th {\n",
       "        text-align: right;\n",
       "    }\n",
       "</style>\n",
       "<table border=\"1\" class=\"dataframe\">\n",
       "  <thead>\n",
       "    <tr style=\"text-align: right;\">\n",
       "      <th></th>\n",
       "      <th>age</th>\n",
       "      <th>tweets</th>\n",
       "      <th>following</th>\n",
       "      <th>followers</th>\n",
       "      <th>likes</th>\n",
       "      <th>media</th>\n",
       "      <th>class</th>\n",
       "    </tr>\n",
       "  </thead>\n",
       "  <tbody>\n",
       "    <tr>\n",
       "      <th>0</th>\n",
       "      <td>4004</td>\n",
       "      <td>40326</td>\n",
       "      <td>2449</td>\n",
       "      <td>1840</td>\n",
       "      <td>57227</td>\n",
       "      <td>1235</td>\n",
       "      <td>0</td>\n",
       "    </tr>\n",
       "    <tr>\n",
       "      <th>1</th>\n",
       "      <td>1851</td>\n",
       "      <td>24563</td>\n",
       "      <td>79</td>\n",
       "      <td>16</td>\n",
       "      <td>47</td>\n",
       "      <td>605</td>\n",
       "      <td>0</td>\n",
       "    </tr>\n",
       "    <tr>\n",
       "      <th>2</th>\n",
       "      <td>3566</td>\n",
       "      <td>31641</td>\n",
       "      <td>1073</td>\n",
       "      <td>26578</td>\n",
       "      <td>218</td>\n",
       "      <td>7089</td>\n",
       "      <td>0</td>\n",
       "    </tr>\n",
       "    <tr>\n",
       "      <th>3</th>\n",
       "      <td>2044</td>\n",
       "      <td>265279</td>\n",
       "      <td>3284</td>\n",
       "      <td>6668</td>\n",
       "      <td>572763</td>\n",
       "      <td>0</td>\n",
       "      <td>0</td>\n",
       "    </tr>\n",
       "    <tr>\n",
       "      <th>4</th>\n",
       "      <td>1111</td>\n",
       "      <td>1489</td>\n",
       "      <td>0</td>\n",
       "      <td>722</td>\n",
       "      <td>0</td>\n",
       "      <td>1489</td>\n",
       "      <td>0</td>\n",
       "    </tr>\n",
       "  </tbody>\n",
       "</table>\n",
       "</div>"
      ],
      "text/plain": [
       "    age  tweets  following  followers   likes  media  class\n",
       "0  4004   40326       2449       1840   57227   1235      0\n",
       "1  1851   24563         79         16      47    605      0\n",
       "2  3566   31641       1073      26578     218   7089      0\n",
       "3  2044  265279       3284       6668  572763      0      0\n",
       "4  1111    1489          0        722       0   1489      0"
      ]
     },
     "execution_count": 100,
     "metadata": {
      "tags": []
     },
     "output_type": "execute_result"
    }
   ],
   "source": [
    "data.head()"
   ]
  },
  {
   "cell_type": "code",
   "execution_count": null,
   "metadata": {
    "colab": {
     "base_uri": "https://localhost:8080/",
     "height": 193
    },
    "colab_type": "code",
    "id": "YpaAOxdtC5WE",
    "outputId": "03feae3f-0b03-4586-f35f-dc74e9659e22"
   },
   "outputs": [
    {
     "data": {
      "text/html": [
       "<div>\n",
       "<style scoped>\n",
       "    .dataframe tbody tr th:only-of-type {\n",
       "        vertical-align: middle;\n",
       "    }\n",
       "\n",
       "    .dataframe tbody tr th {\n",
       "        vertical-align: top;\n",
       "    }\n",
       "\n",
       "    .dataframe thead tr th {\n",
       "        text-align: left;\n",
       "    }\n",
       "\n",
       "    .dataframe thead tr:last-of-type th {\n",
       "        text-align: right;\n",
       "    }\n",
       "</style>\n",
       "<table border=\"1\" class=\"dataframe\">\n",
       "  <thead>\n",
       "    <tr>\n",
       "      <th></th>\n",
       "      <th colspan=\"8\" halign=\"left\">age</th>\n",
       "      <th colspan=\"8\" halign=\"left\">tweets</th>\n",
       "      <th colspan=\"8\" halign=\"left\">following</th>\n",
       "      <th colspan=\"8\" halign=\"left\">followers</th>\n",
       "      <th colspan=\"8\" halign=\"left\">likes</th>\n",
       "      <th colspan=\"8\" halign=\"left\">media</th>\n",
       "    </tr>\n",
       "    <tr>\n",
       "      <th></th>\n",
       "      <th>count</th>\n",
       "      <th>mean</th>\n",
       "      <th>std</th>\n",
       "      <th>min</th>\n",
       "      <th>25%</th>\n",
       "      <th>50%</th>\n",
       "      <th>75%</th>\n",
       "      <th>max</th>\n",
       "      <th>count</th>\n",
       "      <th>mean</th>\n",
       "      <th>std</th>\n",
       "      <th>min</th>\n",
       "      <th>25%</th>\n",
       "      <th>50%</th>\n",
       "      <th>75%</th>\n",
       "      <th>max</th>\n",
       "      <th>count</th>\n",
       "      <th>mean</th>\n",
       "      <th>std</th>\n",
       "      <th>min</th>\n",
       "      <th>25%</th>\n",
       "      <th>50%</th>\n",
       "      <th>75%</th>\n",
       "      <th>max</th>\n",
       "      <th>count</th>\n",
       "      <th>mean</th>\n",
       "      <th>std</th>\n",
       "      <th>min</th>\n",
       "      <th>25%</th>\n",
       "      <th>50%</th>\n",
       "      <th>75%</th>\n",
       "      <th>max</th>\n",
       "      <th>count</th>\n",
       "      <th>mean</th>\n",
       "      <th>std</th>\n",
       "      <th>min</th>\n",
       "      <th>25%</th>\n",
       "      <th>50%</th>\n",
       "      <th>75%</th>\n",
       "      <th>max</th>\n",
       "      <th>count</th>\n",
       "      <th>mean</th>\n",
       "      <th>std</th>\n",
       "      <th>min</th>\n",
       "      <th>25%</th>\n",
       "      <th>50%</th>\n",
       "      <th>75%</th>\n",
       "      <th>max</th>\n",
       "    </tr>\n",
       "    <tr>\n",
       "      <th>class</th>\n",
       "      <th></th>\n",
       "      <th></th>\n",
       "      <th></th>\n",
       "      <th></th>\n",
       "      <th></th>\n",
       "      <th></th>\n",
       "      <th></th>\n",
       "      <th></th>\n",
       "      <th></th>\n",
       "      <th></th>\n",
       "      <th></th>\n",
       "      <th></th>\n",
       "      <th></th>\n",
       "      <th></th>\n",
       "      <th></th>\n",
       "      <th></th>\n",
       "      <th></th>\n",
       "      <th></th>\n",
       "      <th></th>\n",
       "      <th></th>\n",
       "      <th></th>\n",
       "      <th></th>\n",
       "      <th></th>\n",
       "      <th></th>\n",
       "      <th></th>\n",
       "      <th></th>\n",
       "      <th></th>\n",
       "      <th></th>\n",
       "      <th></th>\n",
       "      <th></th>\n",
       "      <th></th>\n",
       "      <th></th>\n",
       "      <th></th>\n",
       "      <th></th>\n",
       "      <th></th>\n",
       "      <th></th>\n",
       "      <th></th>\n",
       "      <th></th>\n",
       "      <th></th>\n",
       "      <th></th>\n",
       "      <th></th>\n",
       "      <th></th>\n",
       "      <th></th>\n",
       "      <th></th>\n",
       "      <th></th>\n",
       "      <th></th>\n",
       "      <th></th>\n",
       "      <th></th>\n",
       "    </tr>\n",
       "  </thead>\n",
       "  <tbody>\n",
       "    <tr>\n",
       "      <th>0</th>\n",
       "      <td>5695.0</td>\n",
       "      <td>3102.286216</td>\n",
       "      <td>974.607616</td>\n",
       "      <td>619.0</td>\n",
       "      <td>2426.0</td>\n",
       "      <td>3272.0</td>\n",
       "      <td>4013.00</td>\n",
       "      <td>4961.0</td>\n",
       "      <td>5695.0</td>\n",
       "      <td>56823.344864</td>\n",
       "      <td>120639.154354</td>\n",
       "      <td>1.0</td>\n",
       "      <td>6200.00</td>\n",
       "      <td>21659.0</td>\n",
       "      <td>61719.00</td>\n",
       "      <td>3532719.0</td>\n",
       "      <td>5695.0</td>\n",
       "      <td>2988.210009</td>\n",
       "      <td>9204.418810</td>\n",
       "      <td>0.0</td>\n",
       "      <td>267.5</td>\n",
       "      <td>1069.0</td>\n",
       "      <td>3366.00</td>\n",
       "      <td>514182.0</td>\n",
       "      <td>5695.0</td>\n",
       "      <td>3783.811940</td>\n",
       "      <td>5.259513e+04</td>\n",
       "      <td>0.0</td>\n",
       "      <td>98.00</td>\n",
       "      <td>544.0</td>\n",
       "      <td>2223.0</td>\n",
       "      <td>3801522.0</td>\n",
       "      <td>5695.0</td>\n",
       "      <td>28721.381563</td>\n",
       "      <td>64482.748332</td>\n",
       "      <td>0.0</td>\n",
       "      <td>265.0</td>\n",
       "      <td>4213.0</td>\n",
       "      <td>27156.00</td>\n",
       "      <td>1267473.0</td>\n",
       "      <td>5695.0</td>\n",
       "      <td>3102.031607</td>\n",
       "      <td>22129.592493</td>\n",
       "      <td>0.0</td>\n",
       "      <td>45.00</td>\n",
       "      <td>288.0</td>\n",
       "      <td>1489.00</td>\n",
       "      <td>830000.0</td>\n",
       "    </tr>\n",
       "    <tr>\n",
       "      <th>1</th>\n",
       "      <td>5324.0</td>\n",
       "      <td>3069.697971</td>\n",
       "      <td>1059.301123</td>\n",
       "      <td>9.0</td>\n",
       "      <td>2208.0</td>\n",
       "      <td>3279.5</td>\n",
       "      <td>4028.25</td>\n",
       "      <td>5084.0</td>\n",
       "      <td>5324.0</td>\n",
       "      <td>108906.554470</td>\n",
       "      <td>166471.995162</td>\n",
       "      <td>0.0</td>\n",
       "      <td>18015.75</td>\n",
       "      <td>53853.5</td>\n",
       "      <td>137770.25</td>\n",
       "      <td>3532838.0</td>\n",
       "      <td>5324.0</td>\n",
       "      <td>9056.063110</td>\n",
       "      <td>22532.540474</td>\n",
       "      <td>0.0</td>\n",
       "      <td>890.0</td>\n",
       "      <td>2974.0</td>\n",
       "      <td>7646.25</td>\n",
       "      <td>514182.0</td>\n",
       "      <td>5324.0</td>\n",
       "      <td>160780.552404</td>\n",
       "      <td>1.538027e+06</td>\n",
       "      <td>0.0</td>\n",
       "      <td>2403.75</td>\n",
       "      <td>7599.5</td>\n",
       "      <td>27673.0</td>\n",
       "      <td>57968545.0</td>\n",
       "      <td>5324.0</td>\n",
       "      <td>43012.678249</td>\n",
       "      <td>81768.151413</td>\n",
       "      <td>0.0</td>\n",
       "      <td>1284.5</td>\n",
       "      <td>10607.5</td>\n",
       "      <td>48487.75</td>\n",
       "      <td>1313818.0</td>\n",
       "      <td>5324.0</td>\n",
       "      <td>12101.455860</td>\n",
       "      <td>43683.210116</td>\n",
       "      <td>0.0</td>\n",
       "      <td>364.75</td>\n",
       "      <td>1737.0</td>\n",
       "      <td>7079.25</td>\n",
       "      <td>1210000.0</td>\n",
       "    </tr>\n",
       "  </tbody>\n",
       "</table>\n",
       "</div>"
      ],
      "text/plain": [
       "          age                            ...   media                    \n",
       "        count         mean          std  ...     50%      75%        max\n",
       "class                                    ...                            \n",
       "0      5695.0  3102.286216   974.607616  ...   288.0  1489.00   830000.0\n",
       "1      5324.0  3069.697971  1059.301123  ...  1737.0  7079.25  1210000.0\n",
       "\n",
       "[2 rows x 48 columns]"
      ]
     },
     "execution_count": 46,
     "metadata": {
      "tags": []
     },
     "output_type": "execute_result"
    }
   ],
   "source": [
    "data.groupby(\"class\").describe()"
   ]
  },
  {
   "cell_type": "code",
   "execution_count": null,
   "metadata": {
    "colab": {},
    "colab_type": "code",
    "id": "NRGOpLCADI7h"
   },
   "outputs": [],
   "source": [
    "from sklearn.utils import shuffle\n",
    "from sklearn.model_selection import train_test_split\n",
    "from sklearn.preprocessing import StandardScaler\n",
    "from sklearn.neural_network import MLPClassifier\n",
    "from sklearn.metrics import accuracy_score"
   ]
  },
  {
   "cell_type": "code",
   "execution_count": null,
   "metadata": {
    "colab": {},
    "colab_type": "code",
    "id": "vuyBkhpTb2N0"
   },
   "outputs": [],
   "source": [
    "data = shuffle(data)\n",
    "data.reset_index(inplace=True, drop=True)"
   ]
  },
  {
   "cell_type": "code",
   "execution_count": null,
   "metadata": {
    "colab": {},
    "colab_type": "code",
    "id": "Iw-KzXQiGN_y"
   },
   "outputs": [],
   "source": [
    "X = data.drop('class',axis=1)\n",
    "y = data['class']"
   ]
  },
  {
   "cell_type": "code",
   "execution_count": null,
   "metadata": {
    "colab": {},
    "colab_type": "code",
    "id": "3_WuPaS_GEgs"
   },
   "outputs": [],
   "source": [
    "sc = StandardScaler()\n",
    "X = sc.fit_transform(X)"
   ]
  },
  {
   "cell_type": "code",
   "execution_count": null,
   "metadata": {
    "colab": {},
    "colab_type": "code",
    "id": "imRfqzAZGILh"
   },
   "outputs": [],
   "source": [
    "X_train,X_test,y_train,y_test = train_test_split(X,y,test_size = 0.2,stratify=y,random_state=1) "
   ]
  },
  {
   "cell_type": "code",
   "execution_count": null,
   "metadata": {
    "colab": {},
    "colab_type": "code",
    "id": "xnEqqY5VN69w"
   },
   "outputs": [],
   "source": [
    "clf = MLPClassifier(hidden_layer_sizes=(25,20,10), max_iter=500,activation = 'tanh',solver='adam',random_state=1)"
   ]
  },
  {
   "cell_type": "code",
   "execution_count": null,
   "metadata": {
    "colab": {
     "base_uri": "https://localhost:8080/",
     "height": 153
    },
    "colab_type": "code",
    "id": "aEgH_cBdOOjw",
    "outputId": "49887b44-1f91-446c-9899-663074c105b1"
   },
   "outputs": [
    {
     "data": {
      "text/plain": [
       "MLPClassifier(activation='tanh', alpha=0.0001, batch_size='auto', beta_1=0.9,\n",
       "              beta_2=0.999, early_stopping=False, epsilon=1e-08,\n",
       "              hidden_layer_sizes=(25, 20, 10), learning_rate='constant',\n",
       "              learning_rate_init=0.001, max_fun=15000, max_iter=500,\n",
       "              momentum=0.9, n_iter_no_change=10, nesterovs_momentum=True,\n",
       "              power_t=0.5, random_state=1, shuffle=True, solver='adam',\n",
       "              tol=0.0001, validation_fraction=0.1, verbose=False,\n",
       "              warm_start=False)"
      ]
     },
     "execution_count": 43,
     "metadata": {
      "tags": []
     },
     "output_type": "execute_result"
    }
   ],
   "source": [
    "clf.fit(X_train, y_train)"
   ]
  },
  {
   "cell_type": "code",
   "execution_count": null,
   "metadata": {
    "colab": {},
    "colab_type": "code",
    "id": "p_gAhPdyOWme"
   },
   "outputs": [],
   "source": [
    "y_pred = clf.predict(X_test)"
   ]
  },
  {
   "cell_type": "code",
   "execution_count": null,
   "metadata": {
    "colab": {
     "base_uri": "https://localhost:8080/",
     "height": 204
    },
    "colab_type": "code",
    "id": "jjaxjHdaOxVD",
    "outputId": "1679afd1-9d0a-4439-b811-3dc47904d75a"
   },
   "outputs": [
    {
     "name": "stdout",
     "output_type": "stream",
     "text": [
      "[[910 229]\n",
      " [284 781]]\n",
      "              precision    recall  f1-score   support\n",
      "\n",
      "           0       0.76      0.80      0.78      1139\n",
      "           1       0.77      0.73      0.75      1065\n",
      "\n",
      "    accuracy                           0.77      2204\n",
      "   macro avg       0.77      0.77      0.77      2204\n",
      "weighted avg       0.77      0.77      0.77      2204\n",
      "\n"
     ]
    }
   ],
   "source": [
    "from sklearn.metrics import classification_report, confusion_matrix\n",
    "conf_mat= confusion_matrix(y_test, y_pred)\n",
    "print(confusion_matrix(y_test, y_pred))\n",
    "print(classification_report(y_test, y_pred))"
   ]
  },
  {
   "cell_type": "code",
   "execution_count": null,
   "metadata": {
    "colab": {
     "base_uri": "https://localhost:8080/",
     "height": 283
    },
    "colab_type": "code",
    "id": "rpMV3Q9TQUOn",
    "outputId": "3eb0f90a-04be-4221-8b9d-e4e7e2715f3e"
   },
   "outputs": [
    {
     "data": {
      "text/plain": [
       "<matplotlib.axes._subplots.AxesSubplot at 0x7fc607f4d0b8>"
      ]
     },
     "execution_count": 46,
     "metadata": {
      "tags": []
     },
     "output_type": "execute_result"
    },
    {
     "data": {
      "image/png": "[encoded data removed]",
      "text/plain": [
       "<Figure size 432x288 with 2 Axes>"
      ]
     },
     "metadata": {
      "needs_background": "light",
      "tags": []
     },
     "output_type": "display_data"
    }
   ],
   "source": [
    "sn.heatmap(conf_mat, annot=True, cmap=\"rocket_r\")"
   ]
  },
  {
   "cell_type": "code",
   "execution_count": null,
   "metadata": {
    "colab": {
     "base_uri": "https://localhost:8080/",
     "height": 34
    },
    "colab_type": "code",
    "id": "5FSqbd1GSoHF",
    "outputId": "bf776b37-d8bd-49d9-aaa2-155e3342f57a"
   },
   "outputs": [
    {
     "name": "stdout",
     "output_type": "stream",
     "text": [
      "Accuracy: 76.72 percent\n"
     ]
    }
   ],
   "source": [
    "acc = conf_mat.trace()/conf_mat.sum()\n",
    "print(\"Accuracy: %.2f percent\"%(acc*100))"
   ]
  },
  {
   "cell_type": "markdown",
   "metadata": {
    "colab_type": "text",
    "id": "HFmrbnsNb6VQ"
   },
   "source": [
    "## Using Bio"
   ]
  },
  {
   "cell_type": "code",
   "execution_count": null,
   "metadata": {
    "colab": {},
    "colab_type": "code",
    "id": "lxx8pJIJxODH"
   },
   "outputs": [],
   "source": [
    "import re\n",
    "import string\n",
    "from sklearn.utils import shuffle\n",
    "from sklearn.model_selection import train_test_split\n",
    "from sklearn.preprocessing import StandardScaler\n",
    "from sklearn.neural_network import MLPClassifier\n",
    "from sklearn.metrics import accuracy_score"
   ]
  },
  {
   "cell_type": "code",
   "execution_count": null,
   "metadata": {
    "colab": {},
    "colab_type": "code",
    "id": "ILKmeBvpb9S1"
   },
   "outputs": [],
   "source": [
    "data = data[['age','bio','tweets','following','followers','likes','media','class']]"
   ]
  },
  {
   "cell_type": "code",
   "execution_count": null,
   "metadata": {
    "colab": {
     "base_uri": "https://localhost:8080/",
     "height": 34
    },
    "colab_type": "code",
    "id": "NhImC7aJoJxz",
    "outputId": "cf4bc419-c44d-4a65-d396-2a00eea5f858"
   },
   "outputs": [
    {
     "data": {
      "text/plain": [
       "1390"
      ]
     },
     "execution_count": 15,
     "metadata": {
      "tags": []
     },
     "output_type": "execute_result"
    }
   ],
   "source": [
    "data['bio'].isnull().values.sum()"
   ]
  },
  {
   "cell_type": "code",
   "execution_count": null,
   "metadata": {
    "colab": {
     "base_uri": "https://localhost:8080/",
     "height": 85
    },
    "colab_type": "code",
    "id": "HT9bf_yoZ9fw",
    "outputId": "f04ed436-1e55-430d-970f-18afe4610107"
   },
   "outputs": [
    {
     "data": {
      "text/plain": [
       "Index(['username', 'age', 'bio', 'tweets', 'following', 'followers', 'likes',\n",
       "       'media', 'class', 'urls', 'nhashtags', 'bio_length', 'punct',\n",
       "       'mentions'],\n",
       "      dtype='object')"
      ]
     },
     "execution_count": 132,
     "metadata": {
      "tags": []
     },
     "output_type": "execute_result"
    }
   ],
   "source": [
    "data.columns"
   ]
  },
  {
   "cell_type": "code",
   "execution_count": null,
   "metadata": {
    "colab": {},
    "colab_type": "code",
    "id": "vR4AHlPssSdm"
   },
   "outputs": [],
   "source": [
    "data = shuffle(data)\n",
    "data.reset_index(inplace=True, drop=True)"
   ]
  },
  {
   "cell_type": "code",
   "execution_count": null,
   "metadata": {
    "colab": {},
    "colab_type": "code",
    "id": "cNF2qLdW15i_"
   },
   "outputs": [],
   "source": [
    "X = data.drop(['class','bio'],axis=1)\n",
    "y = data['class']"
   ]
  },
  {
   "cell_type": "code",
   "execution_count": null,
   "metadata": {
    "colab": {},
    "colab_type": "code",
    "id": "KJ0PAkBg2B79"
   },
   "outputs": [],
   "source": [
    "sc = StandardScaler()\n",
    "X = sc.fit_transform(X)"
   ]
  },
  {
   "cell_type": "code",
   "execution_count": null,
   "metadata": {
    "colab": {},
    "colab_type": "code",
    "id": "ABPFlbMy2KRD"
   },
   "outputs": [],
   "source": [
    "X_train,X_test,y_train,y_test = train_test_split(X,y,test_size = 0.2,stratify=y,random_state=1) "
   ]
  },
  {
   "cell_type": "code",
   "execution_count": null,
   "metadata": {
    "colab": {},
    "colab_type": "code",
    "id": "FS9kzZvy2N1b"
   },
   "outputs": [],
   "source": [
    "clf = MLPClassifier(hidden_layer_sizes=(25,20,10), max_iter=500,activation = 'tanh',solver='adam',random_state=1)"
   ]
  },
  {
   "cell_type": "code",
   "execution_count": null,
   "metadata": {
    "colab": {
     "base_uri": "https://localhost:8080/",
     "height": 153
    },
    "colab_type": "code",
    "id": "JS_Lzxrs2T9k",
    "outputId": "b8f8e14d-42ff-461f-9831-ddcded8875ed"
   },
   "outputs": [
    {
     "data": {
      "text/plain": [
       "MLPClassifier(activation='tanh', alpha=0.0001, batch_size='auto', beta_1=0.9,\n",
       "              beta_2=0.999, early_stopping=False, epsilon=1e-08,\n",
       "              hidden_layer_sizes=(25, 20, 10), learning_rate='constant',\n",
       "              learning_rate_init=0.001, max_fun=15000, max_iter=500,\n",
       "              momentum=0.9, n_iter_no_change=10, nesterovs_momentum=True,\n",
       "              power_t=0.5, random_state=1, shuffle=True, solver='adam',\n",
       "              tol=0.0001, validation_fraction=0.1, verbose=False,\n",
       "              warm_start=False)"
      ]
     },
     "execution_count": 126,
     "metadata": {
      "tags": []
     },
     "output_type": "execute_result"
    }
   ],
   "source": [
    "clf.fit(X_train, y_train)"
   ]
  },
  {
   "cell_type": "code",
   "execution_count": null,
   "metadata": {
    "colab": {},
    "colab_type": "code",
    "id": "46pgMn_q2YUy"
   },
   "outputs": [],
   "source": [
    "y_pred = clf.predict(X_test)"
   ]
  },
  {
   "cell_type": "code",
   "execution_count": null,
   "metadata": {
    "colab": {
     "base_uri": "https://localhost:8080/",
     "height": 204
    },
    "colab_type": "code",
    "id": "GR0NIplQ2c7b",
    "outputId": "2eff85dc-2143-45e9-bd35-13cc82830815"
   },
   "outputs": [
    {
     "name": "stdout",
     "output_type": "stream",
     "text": [
      "[[928 211]\n",
      " [362 703]]\n",
      "              precision    recall  f1-score   support\n",
      "\n",
      "           0       0.72      0.81      0.76      1139\n",
      "           1       0.77      0.66      0.71      1065\n",
      "\n",
      "    accuracy                           0.74      2204\n",
      "   macro avg       0.74      0.74      0.74      2204\n",
      "weighted avg       0.74      0.74      0.74      2204\n",
      "\n"
     ]
    }
   ],
   "source": [
    "from sklearn.metrics import classification_report, confusion_matrix\n",
    "conf_mat= confusion_matrix(y_test, y_pred)\n",
    "print(confusion_matrix(y_test, y_pred))\n",
    "print(classification_report(y_test, y_pred))"
   ]
  },
  {
   "cell_type": "code",
   "execution_count": null,
   "metadata": {
    "colab": {
     "base_uri": "https://localhost:8080/",
     "height": 282
    },
    "colab_type": "code",
    "id": "KOJpGbiX2hwB",
    "outputId": "081bd483-d7c2-4e9c-aa10-f32fbe6667c4"
   },
   "outputs": [
    {
     "data": {
      "text/plain": [
       "<matplotlib.axes._subplots.AxesSubplot at 0x7fc17fad9198>"
      ]
     },
     "execution_count": 129,
     "metadata": {
      "tags": []
     },
     "output_type": "execute_result"
    },
    {
     "data": {
      "image/png": "[encoded data removed]",
      "text/plain": [
       "<Figure size 432x288 with 2 Axes>"
      ]
     },
     "metadata": {
      "needs_background": "light",
      "tags": []
     },
     "output_type": "display_data"
    }
   ],
   "source": [
    "sn.heatmap(conf_mat, annot=True, cmap=\"rocket_r\")"
   ]
  },
  {
   "cell_type": "code",
   "execution_count": null,
   "metadata": {
    "colab": {
     "base_uri": "https://localhost:8080/",
     "height": 34
    },
    "colab_type": "code",
    "id": "6AOGefeu2mwm",
    "outputId": "538887fa-75d3-473d-ebe9-92662a3c4779"
   },
   "outputs": [
    {
     "name": "stdout",
     "output_type": "stream",
     "text": [
      "Accuracy: 74.00 percent\n"
     ]
    }
   ],
   "source": [
    "acc = conf_mat.trace()/conf_mat.sum()\n",
    "print(\"Accuracy: %.2f percent\"%(acc*100))"
   ]
  },
  {
   "cell_type": "markdown",
   "metadata": {
    "colab_type": "text",
    "id": "4prTDtm0TL6d"
   },
   "source": [
    "## Feature Model"
   ]
  },
  {
   "cell_type": "code",
   "execution_count": null,
   "metadata": {
    "colab": {},
    "colab_type": "code",
    "id": "Dt4AtWqPwpId"
   },
   "outputs": [],
   "source": [
    "def model(data):\n",
    "    y = data['class']\n",
    "    X = data.drop('class',axis=1)\n",
    "    min_max_scaler = MinMaxScaler()\n",
    "    X = min_max_scaler.fit_transform(X)\n",
    "    X_train,X_test,y_train,y_test = train_test_split(X,y,test_size = 0.2,stratify=y,random_state=1) \n",
    "    clf = MLPClassifier(hidden_layer_sizes=(30,20,15), max_iter=500,activation = 'relu',solver='adam',random_state=1)\n",
    "    clf.fit(X_train, y_train)\n",
    "    y_pred = clf.predict(X_test)\n",
    "    from sklearn.metrics import classification_report, confusion_matrix\n",
    "    conf_mat= confusion_matrix(y_test, y_pred)\n",
    "    print(confusion_matrix(y_test, y_pred))\n",
    "    print(classification_report(y_test, y_pred))\n",
    "    acc = conf_mat.trace()/conf_mat.sum()\n",
    "    print(\"Accuracy: %.2f percent\"%(acc*100))\n",
    "    print(data.columns)"
   ]
  },
  {
   "cell_type": "code",
   "execution_count": null,
   "metadata": {
    "colab": {
     "base_uri": "https://localhost:8080/",
     "height": 1000
    },
    "colab_type": "code",
    "id": "W26XZZqcbiv6",
    "outputId": "db5db3dc-bc54-4298-c6a5-86405773ed2a"
   },
   "outputs": [
    {
     "name": "stdout",
     "output_type": "stream",
     "text": [
      "[[8434 1837]\n",
      " [2356 3499]]\n",
      "              precision    recall  f1-score   support\n",
      "\n",
      "           0       0.78      0.82      0.80     10271\n",
      "           1       0.66      0.60      0.63      5855\n",
      "\n",
      "    accuracy                           0.74     16126\n",
      "   macro avg       0.72      0.71      0.71     16126\n",
      "weighted avg       0.74      0.74      0.74     16126\n",
      "\n",
      "Accuracy: 74.00 percent\n",
      "Index(['class', 'tweet_length'], dtype='object')\n",
      "****************************************************************************************************\n",
      "[[9180 1091]\n",
      " [ 804 5051]]\n",
      "              precision    recall  f1-score   support\n",
      "\n",
      "           0       0.92      0.89      0.91     10271\n",
      "           1       0.82      0.86      0.84      5855\n",
      "\n",
      "    accuracy                           0.88     16126\n",
      "   macro avg       0.87      0.88      0.87     16126\n",
      "weighted avg       0.88      0.88      0.88     16126\n",
      "\n",
      "Accuracy: 88.25 percent\n",
      "Index(['class', 'tweet_length', 'special'], dtype='object')\n",
      "****************************************************************************************************\n",
      "[[9467  804]\n",
      " [ 814 5041]]\n",
      "              precision    recall  f1-score   support\n",
      "\n",
      "           0       0.92      0.92      0.92     10271\n",
      "           1       0.86      0.86      0.86      5855\n",
      "\n",
      "    accuracy                           0.90     16126\n",
      "   macro avg       0.89      0.89      0.89     16126\n",
      "weighted avg       0.90      0.90      0.90     16126\n",
      "\n",
      "Accuracy: 89.97 percent\n",
      "Index(['class', 'tweet_length', 'special', 'url'], dtype='object')\n",
      "****************************************************************************************************\n",
      "[[9664  607]\n",
      " [ 862 4993]]\n",
      "              precision    recall  f1-score   support\n",
      "\n",
      "           0       0.92      0.94      0.93     10271\n",
      "           1       0.89      0.85      0.87      5855\n",
      "\n",
      "    accuracy                           0.91     16126\n",
      "   macro avg       0.90      0.90      0.90     16126\n",
      "weighted avg       0.91      0.91      0.91     16126\n",
      "\n",
      "Accuracy: 90.89 percent\n",
      "Index(['class', 'tweet_length', 'special', 'url', 'tokens'], dtype='object')\n",
      "****************************************************************************************************\n",
      "[[9584  687]\n",
      " [ 636 5219]]\n",
      "              precision    recall  f1-score   support\n",
      "\n",
      "           0       0.94      0.93      0.94     10271\n",
      "           1       0.88      0.89      0.89      5855\n",
      "\n",
      "    accuracy                           0.92     16126\n",
      "   macro avg       0.91      0.91      0.91     16126\n",
      "weighted avg       0.92      0.92      0.92     16126\n",
      "\n",
      "Accuracy: 91.80 percent\n",
      "Index(['class', 'tweet_length', 'special', 'url', 'tokens', 'nonstop'], dtype='object')\n",
      "****************************************************************************************************\n",
      "[[9701  570]\n",
      " [ 951 4904]]\n",
      "              precision    recall  f1-score   support\n",
      "\n",
      "           0       0.91      0.94      0.93     10271\n",
      "           1       0.90      0.84      0.87      5855\n",
      "\n",
      "    accuracy                           0.91     16126\n",
      "   macro avg       0.90      0.89      0.90     16126\n",
      "weighted avg       0.91      0.91      0.90     16126\n",
      "\n",
      "Accuracy: 90.57 percent\n",
      "Index(['class', 'tweet_length', 'special', 'url', 'tokens', 'nonstop',\n",
      "       'stemmed'],\n",
      "      dtype='object')\n",
      "****************************************************************************************************\n"
     ]
    }
   ],
   "source": [
    "col = ['tweet_length', 'special', 'url', 'tokens', 'nonstop', 'stemmed']\n",
    "for i in range(1,len(col)+1):\n",
    "    temp = ['class']\n",
    "    for j in range(0,i):\n",
    "        temp.append(col[j])\n",
    "    data = df[temp]\n",
    "    data = data.dropna()\n",
    "    data = shuffle(data)\n",
    "    data.reset_index(inplace=True, drop=True)\n",
    "    model(data)\n",
    "    print('*'*100)"
   ]
  }
 ],
 "metadata": {
  "colab": {
   "collapsed_sections": [
    "Gmt43DlGge4z",
    "z_Q1uyTmhPRY",
    "EdWwTFJINZHM",
    "SysfLIiDNE1-",
    "0-dvTKlEwVFZ",
    "r98mFN3wJgdW",
    "yBMnErzhQ-cQ",
    "c49WLc82lsE6",
    "HFmrbnsNb6VQ",
    "4prTDtm0TL6d",
    "h1f1TN6b1OaG"
   ],
   "include_colab_link": true,
   "name": "AllCode.ipynb",
   "provenance": []
  },
  "kernelspec": {
   "display_name": "Python 3",
   "language": "python",
   "name": "python3"
  },
  "language_info": {
   "codemirror_mode": {
    "name": "ipython",
    "version": 3
   },
   "file_extension": ".py",
   "mimetype": "text/x-python",
   "name": "python",
   "nbconvert_exporter": "python",
   "pygments_lexer": "ipython3",
   "version": "3.7.1"
  }
 },
 "nbformat": 4,
 "nbformat_minor": 1
}
